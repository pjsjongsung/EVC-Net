{
 "cells": [
  {
   "cell_type": "code",
   "execution_count": null,
   "metadata": {},
   "outputs": [],
   "source": [
    "# Bunch of imports\n",
    "# System path should be changed to where the git repo is.\n",
    "import sys\n",
    "sys.path.append('..')\n",
    "import tensorflow as tf\n",
    "import os\n",
    "import src.models as models"
   ]
  },
  {
   "cell_type": "code",
   "execution_count": null,
   "metadata": {},
   "outputs": [],
   "source": [
    "# Set GPU and batch size\n",
    "# Can set a different batch size, or skip if CPU\n",
    "strategy = models.set_GPU()\n",
    "BATCH_SIZE_PER_REPLICA = 1\n",
    "BATCH_SIZE = BATCH_SIZE_PER_REPLICA * strategy.num_replicas_in_sync\n"
   ]
  },
  {
   "cell_type": "code",
   "execution_count": null,
   "metadata": {},
   "outputs": [],
   "source": [
    "# Set parameters\n",
    "\"\"\"\n",
    "MODEL_SCALE - The number of nodes in the initial layer. Every time the feature scale is decreased\n",
    "the number of nodes double.\n",
    "base_path - Path of the model if we are loading one.\n",
    "model_path - Output path of the trained model.\n",
    "model_type - The type of model you want to train. Can be either 'vnet', 'evnet' or 'evcnet'\n",
    "DROP_R - Dropout rate of the model.\n",
    "EPOCHS - Number of iterations. 9 takes 48 hours.\n",
    "l_r - Learning rate.\n",
    "train_files - List of absolute file paths for the training images\n",
    "train_labels - List of absolute file paths for the training labels\n",
    "val_files - List of absolute file paths for the validation images\n",
    "val_labels - List of absolute file paths for the validation labels\n",
    "\"\"\"\n",
    "MODEL_SCALE = 16\n",
    "model_type = 'evnet'\n",
    "base_path = ''\n",
    "model_path = 'trained_models/evnet/'\n",
    "DROP_R = 0.5\n",
    "EPOCHS = 9\n",
    "l_r = 0.01\n",
    "\n",
    "# Note that this is just an example of how the input directories would look like\n",
    "train_dir = 'inputs/train/images/'\n",
    "train_files = [os.path.join(train_dir, f) for f in sorted(os.listdir(train_dir))]\n",
    "train_dir = 'inputs/train/labels/'\n",
    "train_labels = [os.path.join(train_dir, f) for f in sorted(os.listdir(train_dir))]\n",
    "\n",
    "val_dir = 'inputs/val/images/'\n",
    "val_files = [os.path.join(val_dir, f) for f in sorted(os.listdir(val_dir))]\n",
    "val_dir = 'inputs/val/labels/'\n",
    "val_labels = [os.path.join(val_dir, f) for f in sorted(os.listdir(val_dir))]"
   ]
  },
  {
   "cell_type": "code",
   "execution_count": null,
   "metadata": {},
   "outputs": [],
   "source": [
    "# Create a dataset object for tensorflow\n",
    "train_ds = models.create_dataset(train_files, train_labels, training=True, model_type=model_type, batch_size=BATCH_SIZE)\n",
    "val_ds = models.create_dataset(val_files, val_labels, training=False, model_type=model_type, batch_size=BATCH_SIZE)"
   ]
  },
  {
   "cell_type": "code",
   "execution_count": null,
   "metadata": {},
   "outputs": [],
   "source": [
    "# Load the pre-trained model or create a new model\n",
    "# model = tf.keras.models.load_model(base_path, custom_objects={'dice_coef': models.dice_coef})\n",
    "\n",
    "# Note that the compiling step should not be done if loading a model\n",
    "model = models.load_model(16, 0.5, model_type)\n",
    "optimizer = tf.keras.optimizers.Adam(l_r)\n",
    "model.compile(loss=models.dice_coef(reduction=tf.keras.losses.Reduction.AUTO), optimizer=optimizer)"
   ]
  },
  {
   "cell_type": "code",
   "execution_count": null,
   "metadata": {},
   "outputs": [],
   "source": [
    "# checkpoint for saving the best weight\n",
    "# usually good for final run of the training session\n",
    "checkpoint_path = 'tmp/' + model_type\n",
    "if os.path.exists('tmp') == False:\n",
    "    os.makedirs('tmp')\n",
    "checkpoint_dir = os.path.dirname(checkpoint_path)\n",
    "callbacks = [\n",
    "    tf.keras.callbacks.ModelCheckpoint(filepath=checkpoint_path,\n",
    "                                       save_weights_only=True,\n",
    "                                       save_best_only=True)\n",
    "]"
   ]
  },
  {
   "cell_type": "code",
   "execution_count": null,
   "metadata": {},
   "outputs": [],
   "source": [
    "# training the model\n",
    "model.fit(x=train_ds, validation_data = val_ds, epochs=EPOCHS, callbacks=callbacks)\n",
    "\n",
    "# The model weights (that are considered the best) are loaded into the model.\n",
    "model.load_weights(checkpoint_path)\n",
    "\n",
    "model.save(model_path, save_format='tf')"
   ]
  }
 ],
 "metadata": {
  "language_info": {
   "name": "python"
  },
  "orig_nbformat": 4
 },
 "nbformat": 4,
 "nbformat_minor": 2
}
