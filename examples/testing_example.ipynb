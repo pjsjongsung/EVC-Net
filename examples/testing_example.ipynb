{
 "cells": [
  {
   "cell_type": "code",
   "execution_count": null,
   "metadata": {},
   "outputs": [],
   "source": [
    "# Bunch of imports\n",
    "# System path should be changed to where the git repo is.\n",
    "import sys\n",
    "sys.path.append('..')\n",
    "import tensorflow as tf\n",
    "import src.models as models"
   ]
  },
  {
   "cell_type": "code",
   "execution_count": null,
   "metadata": {},
   "outputs": [],
   "source": [
    "# Set parameters\n",
    "\"\"\"\n",
    "input_dir - The input directory with the nifti images.\n",
    "output_dir - The output directory where the brain masks will be saved.\n",
    "model_path - Path of the model.\n",
    "model_type - The type of model you want to test. Can be either 'vnet', 'evnet' or 'evcnet'\n",
    "batch_size(optional) - mini-batch size passed to the model. Should be lowered if\n",
    "                       you get an out of memory error. Default is 1\n",
    "crf_param(optional) - hyperparameters for the CRF step\n",
    "\n",
    "CRF Parameters should be in the form of\n",
    "\n",
    "MaxIterations - Maximum iterations until convergence.\n",
    "PosW - Weight of the smoothness kernel.\n",
    "PosRStd, PosCStd, PosZStd - Degree of spatial feature in smoothness kernel.\n",
    "BilateralW - Weight of the appearance kernel.\n",
    "PosRStd, PosCStd, PosZStd - Degree of spatial feature in appearance kernel.\n",
    "ModalityNum - Number of channels of the image. (Which is 1 in our case)\n",
    "BilateralModsStds - Degree of intensity feature in appearance kernel.\n",
    "\n",
    "ex)\n",
    "    crf_param = {}\n",
    "    crf_param['MaxIterations'] = 100.0\n",
    "    crf_param['PosW'] = 100.0\n",
    "    crf_param['PosRStd'] = 1\n",
    "    crf_param['PosCStd'] = 1\n",
    "    crf_param['PosZStd'] = 1\n",
    "    crf_param['BilateralW'] = 100.0\n",
    "    crf_param['BilateralRStd'] = 1\n",
    "    crf_param['BilateralCStd'] = 1\n",
    "    crf_param['BilateralZStd'] = 1\n",
    "    crf_param['ModalityNum'] = 1\n",
    "    crf_param['BilateralModsStds'] = (4.0,)\n",
    "\"\"\"\n",
    "input_dir = ''\n",
    "output_dir = ''\n",
    "model_path = 'trained_models/evnet/'\n",
    "model_type = 'evcnet'\n",
    "crf_param = None"
   ]
  },
  {
   "cell_type": "code",
   "execution_count": null,
   "metadata": {},
   "outputs": [],
   "source": [
    "# Load the pre-trained model\n",
    "model = tf.keras.models.load_model(model_path, custom_objects={'dice_coef': models.dice_coef})"
   ]
  },
  {
   "cell_type": "code",
   "execution_count": null,
   "metadata": {},
   "outputs": [],
   "source": [
    "# Test the model\n",
    "# The outputs will be saved in the given output directory\n",
    "models.test_model(model, input_dir, output_dir, batch_size=1, model_type=model_type, crf_param=crf_param)"
   ]
  }
 ],
 "metadata": {
  "language_info": {
   "name": "python"
  },
  "orig_nbformat": 4
 },
 "nbformat": 4,
 "nbformat_minor": 2
}
